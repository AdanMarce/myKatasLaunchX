{
 "cells": [
  {
   "cell_type": "markdown",
   "metadata": {},
   "source": [
    "#Ejercicio 1 \n"
   ]
  },
  {
   "cell_type": "code",
   "execution_count": 8,
   "metadata": {},
   "outputs": [],
   "source": [
    "def generandoReporte(tanquePrincipal, tanqueExterno, tanqueHidrogeno):\n",
    "    promedioTotal = (tanquePrincipal + tanqueExterno + tanqueHidrogeno) / 3\n",
    "    return f\"\"\"Fuel Report:\n",
    "    Promedio Total: {promedioTotal}%\n",
    "    Tanque Principal: {tanquePrincipal}%\n",
    "    Tanque Externo: {tanqueExterno}%\n",
    "    Tanque de Hidrogeno: {tanqueHidrogeno}%\n",
    "    \"\"\""
   ]
  },
  {
   "cell_type": "code",
   "execution_count": 5,
   "metadata": {},
   "outputs": [
    {
     "name": "stdout",
     "output_type": "stream",
     "text": [
      "Fuel Report:\n",
      "    Promedio Total: 78.33333333333333%\n",
      "    Tanque Principal: 80%\n",
      "    Tanque Externo: 70%\n",
      "    Tanque de Hidrogeno: 85%\n",
      "    \n"
     ]
    }
   ],
   "source": [
    "# Llamamos a la función que genera el reporte print(funcion(tanque1, tanque2, tanque3))\n",
    "print(generandoReporte(80, 70, 85))"
   ]
  },
  {
   "cell_type": "code",
   "execution_count": 6,
   "metadata": {},
   "outputs": [
    {
     "data": {
      "text/plain": [
       "82.0"
      ]
     },
     "execution_count": 6,
     "metadata": {},
     "output_type": "execute_result"
    }
   ],
   "source": [
    "def promedio(values):\n",
    "    total = sum(values)\n",
    "    number_of_items = len(values)\n",
    "    return total / number_of_items\n",
    "\n",
    "promedio([80, 85, 81]) "
   ]
  },
  {
   "cell_type": "code",
   "execution_count": 9,
   "metadata": {},
   "outputs": [
    {
     "name": "stdout",
     "output_type": "stream",
     "text": [
      "Reporte de Gasolina:\n",
      "    Promedio Total: 78.0%\n",
      "    Tanque Principal: 88%\n",
      "    Tanque externo: 76%\n",
      "    Tanque de Hidrogeno: 70% \n",
      "    \n"
     ]
    }
   ],
   "source": [
    "# Actualiza la función\n",
    "def generandoReporte(tanquePrincipal, tanqueExterno, tanqueHidrogeno):\n",
    "    return f\"\"\"Reporte de Gasolina:\n",
    "    Promedio Total: {average([tanquePrincipal, tanqueExterno, tanqueHidrogeno])}%\n",
    "    Tanque Principal: {tanquePrincipal}%\n",
    "    Tanque externo: {tanqueExterno}%\n",
    "    Tanque de Hidrogeno: {tanqueHidrogeno}% \n",
    "    \"\"\"\n",
    "\n",
    "# Call the updated function again with different values\n",
    "print(generandoReporte(88, 76, 70))"
   ]
  },
  {
   "cell_type": "markdown",
   "metadata": {},
   "source": [
    "#Ejercicio 2"
   ]
  },
  {
   "cell_type": "code",
   "execution_count": 11,
   "metadata": {},
   "outputs": [
    {
     "name": "stdout",
     "output_type": "stream",
     "text": [
      "\n",
      "    Mision a  La Luna\n",
      "    Tiempo del Viaje: 65 minutos\n",
      "    Total de combustible: 500000 galones\n",
      "    \n"
     ]
    }
   ],
   "source": [
    "def reportedeMision(preLanzamiento, tiempodeVuelo, destino, tanqueExterno, tanquePrincipal):\n",
    "    return f\"\"\"\n",
    "    Mision a  {destino}\n",
    "    Tiempo del Viaje: {preLanzamiento + tiempodeVuelo} minutos\n",
    "    Total de combustible: {tanqueExterno + tanquePrincipal} galones\n",
    "    \"\"\"\n",
    "\n",
    "print(reportedeMision(14, 51, \"La Luna\", 200000, 300000))"
   ]
  },
  {
   "cell_type": "code",
   "execution_count": 13,
   "metadata": {},
   "outputs": [
    {
     "name": "stdout",
     "output_type": "stream",
     "text": [
      "\n",
      "    Mision a La Luna\n",
      "    Tiempo del Viaje: 76 minutos\n",
      "    Total de combustible: 500000\n",
      "    \n"
     ]
    }
   ],
   "source": [
    "\n",
    "def reportedeMision(destino, *minutos, **reservadeGasolina):\n",
    "    return f\"\"\"\n",
    "    Mision a {destino}\n",
    "    Tiempo del Viaje: {sum(minutos)} minutos\n",
    "    Total de combustible: {sum(reservadeGasolina.values())}\n",
    "    \"\"\"\n",
    "\n",
    "print(reportedeMision(\"La Luna\", 10, 15, 51, main=300000, external=200000))"
   ]
  },
  {
   "cell_type": "code",
   "execution_count": 22,
   "metadata": {},
   "outputs": [
    {
     "name": "stdout",
     "output_type": "stream",
     "text": [
      "\n",
      "    Mission to Moon\n",
      "    Total travel time: 74 minutes\n",
      "    Total fuel left: 500000\n",
      "    main tank --> 300000 gallons left\n",
      "external tank --> 200000 gallons left\n",
      "\n"
     ]
    }
   ],
   "source": [
    "def reportedeMision(destino, *minutos, **reservadeGasolina):\n",
    "    main_report = f\"\"\"\n",
    "    Mision a {destino}\n",
    "    Tiempo del viaje: {sum(minutos)} minutos\n",
    "    Total de combustible: {sum(reservadeGasolina.values())}\n",
    "    \"\"\"\n",
    "    for tank_name, galones in reservadeGasolina.items():\n",
    "        main_report += f\"{tank_name} tanque --> {galones} gallons left\\n\"\n",
    "    return main_report\n",
    "\n",
    "print(mission_report(\"Moon\", 8, 11, 55, main=300000, external=200000))"
   ]
  }
 ],
 "metadata": {
  "interpreter": {
   "hash": "63fd5069d213b44bf678585dea6b12cceca9941eaf7f819626cde1f2670de90d"
  },
  "kernelspec": {
   "display_name": "Python 3.9.6 64-bit",
   "language": "python",
   "name": "python3"
  },
  "language_info": {
   "codemirror_mode": {
    "name": "ipython",
    "version": 3
   },
   "file_extension": ".py",
   "mimetype": "text/x-python",
   "name": "python",
   "nbconvert_exporter": "python",
   "pygments_lexer": "ipython3",
   "version": "3.9.6"
  },
  "orig_nbformat": 4
 },
 "nbformat": 4,
 "nbformat_minor": 2
}
