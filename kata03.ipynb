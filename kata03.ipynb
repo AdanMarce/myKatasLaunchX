{
 "cells": [
  {
   "cell_type": "code",
   "execution_count": 4,
   "metadata": {},
   "outputs": [
    {
     "name": "stdout",
     "output_type": "stream",
     "text": [
      "Un asteroide en camino a la tierra!!!\n"
     ]
    }
   ],
   "source": [
    "asteroide = 50\n",
    "if asteroide > 30:\n",
    "    print(\"Un asteroide en camino a la tierra!!!\")\n",
    "else:\n",
    "    print(\"Fue un error de la astrologia \")"
   ]
  },
  {
   "cell_type": "code",
   "execution_count": 6,
   "metadata": {},
   "outputs": [
    {
     "name": "stdout",
     "output_type": "stream",
     "text": [
      "Mira arriba, hay algo en el cielo\n"
     ]
    }
   ],
   "source": [
    "asteroide = 19\n",
    "if asteroide < 20:\n",
    "    print(\"Mira arriba, hay algo en el cielo\")\n",
    "elif asteroide == 20:\n",
    "    print(\"Hay una luz magica en el cielo\")\n",
    "else:\n",
    "    print(\"Nada hay aqui\")\n"
   ]
  },
  {
   "cell_type": "code",
   "execution_count": 10,
   "metadata": {},
   "outputs": [
    {
     "name": "stdout",
     "output_type": "stream",
     "text": [
      "No se ve nada en el cielo xd\n"
     ]
    }
   ],
   "source": [
    "velocidad_asteroide = 25\n",
    "tamano_asteroide = 40\n",
    "if velocidad_asteroide > 25 and tamano_asteroide > 25:\n",
    "    print(\"Hay un asteroide que amenaza a la tierra\")\n",
    "elif velocidad_asteroide < 20:\n",
    "    print(\"Mira hay algo en el cielo\")\n",
    "elif tamano_asteroide < 25:\n",
    "    print(\"No se ve nada en el cielo xd\")\n",
    "else:\n",
    "    print(\"No se ve nada en el cielo xd\")"
   ]
  }
 ],
 "metadata": {
  "interpreter": {
   "hash": "63fd5069d213b44bf678585dea6b12cceca9941eaf7f819626cde1f2670de90d"
  },
  "kernelspec": {
   "display_name": "Python 3.9.6 64-bit",
   "language": "python",
   "name": "python3"
  },
  "language_info": {
   "codemirror_mode": {
    "name": "ipython",
    "version": 3
   },
   "file_extension": ".py",
   "mimetype": "text/x-python",
   "name": "python",
   "nbconvert_exporter": "python",
   "pygments_lexer": "ipython3",
   "version": "3.9.6"
  },
  "orig_nbformat": 4
 },
 "nbformat": 4,
 "nbformat_minor": 2
}
